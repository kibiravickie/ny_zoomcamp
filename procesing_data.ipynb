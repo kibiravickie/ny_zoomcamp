{
 "cells": [
  {
   "cell_type": "code",
   "execution_count": null,
   "id": "c302fef0-1a34-4438-b0f0-3231b612af85",
   "metadata": {},
   "outputs": [],
   "source": [
    "import pandas as pd\n",
    "import pyspark\n",
    "from pyspark.sql import SparkSession\n",
    "from pyspark.sql import types\n",
    "from pyspark.conf import SparkConf"
   ]
  },
  {
   "cell_type": "code",
   "execution_count": null,
   "id": "37fe9edb-5eeb-438e-8328-eba0162bf314",
   "metadata": {},
   "outputs": [],
   "source": [
    "#!pwd"
   ]
  },
  {
   "cell_type": "code",
   "execution_count": null,
   "id": "ed56fdaa-d1b0-408c-a4b0-37e60041c3d4",
   "metadata": {},
   "outputs": [],
   "source": [
    "#!wget https://jdbc.postgresql.org/download/postgresql-42.7.1.jar"
   ]
  },
  {
   "cell_type": "code",
   "execution_count": null,
   "id": "7dc4c660-6772-471a-9e6a-d493726bf2e4",
   "metadata": {},
   "outputs": [],
   "source": [
    "conf = SparkConf()\n",
    "conf.set('spark.jars', 'postgresql-42.7.1.jar')"
   ]
  },
  {
   "cell_type": "code",
   "execution_count": null,
   "id": "19d9df4c-3ac9-461c-849d-6260aec4b561",
   "metadata": {},
   "outputs": [],
   "source": [
    "spark = SparkSession.builder \\\n",
    "        .master(\"local[*]\") \\\n",
    "        .appName(\"test\") \\\n",
    "        .config(conf=conf) \\\n",
    "        .config(\"spark.executor.memory\",\"3g\") \\\n",
    "        .config(\"spark.executor.cores\", \"4\") \\\n",
    "        .config(\"spark.cores.max\",\"2\") \\\n",
    "        .enableHiveSupport() \\\n",
    "        .getOrCreate()"
   ]
  },
  {
   "cell_type": "code",
   "execution_count": null,
   "id": "4813785f-f370-4ee5-bd56-b69a02554979",
   "metadata": {},
   "outputs": [],
   "source": [
    "'''\n",
    "df = spark.read \\\n",
    "     .option('header','true') \\\n",
    "     .csv('data/yellow/')\n",
    "'''"
   ]
  },
  {
   "cell_type": "code",
   "execution_count": null,
   "id": "daaea883-a375-4390-9c88-a75ec139eef8",
   "metadata": {},
   "outputs": [],
   "source": [
    "#df.show()"
   ]
  },
  {
   "cell_type": "code",
   "execution_count": null,
   "id": "0f36ffa3-74cc-4918-b753-feb5620803b1",
   "metadata": {},
   "outputs": [],
   "source": [
    "#df.printSchema()"
   ]
  },
  {
   "cell_type": "code",
   "execution_count": null,
   "id": "7c83cf65-b724-4472-9185-2a5620cf32d6",
   "metadata": {},
   "outputs": [],
   "source": [
    "#df_pandas = pd.read_csv('data/yellow/yellow_tripdata_2019-10.csv.gz', nrows=1000)"
   ]
  },
  {
   "cell_type": "code",
   "execution_count": null,
   "id": "426989ce-ff31-4a0e-9b54-dca7e4266b2a",
   "metadata": {},
   "outputs": [],
   "source": [
    "#df_pandas.head()"
   ]
  },
  {
   "cell_type": "code",
   "execution_count": null,
   "id": "87e6d6cc-00e0-44d5-8804-cdff76cf8c79",
   "metadata": {},
   "outputs": [],
   "source": [
    "#spark.createDataFrame(df_pandas).schema"
   ]
  },
  {
   "cell_type": "code",
   "execution_count": null,
   "id": "c8ec7df3-92e0-49d0-8389-5d973a17ba90",
   "metadata": {},
   "outputs": [],
   "source": [
    "'''\n",
    "schema = types.StructType([ \n",
    "    types.StructField('VendorID', types.IntegerType(), True),\n",
    "    types.StructField('tpep_pickup_datetime', types.TimestampType(), True), \n",
    "    types.StructField('tpep_dropoff_datetime', types.TimestampType(), True), \n",
    "    types.StructField('passenger_count', types.IntegerType(), True), \n",
    "    types.StructField('trip_distance', types.DoubleType(), True),\n",
    "    types.StructField('RatecodeID', types.IntegerType(), True), \n",
    "    types.StructField('store_and_fwd_flag', types.StringType(), True), \n",
    "    types.StructField('PULocationID', types.IntegerType(), True),\n",
    "    types.StructField('DOLocationID', types.IntegerType(), True), \n",
    "    types.StructField('payment_type', types.IntegerType(), True), \n",
    "    types.StructField('fare_amount', types.DoubleType(), True), \n",
    "    types.StructField('extra', types.DoubleType(), True), \n",
    "    types.StructField('mta_tax', types.DoubleType(), True), \n",
    "    types.StructField('tip_amount', types.DoubleType(), True), \n",
    "    types.StructField('tolls_amount', types.DoubleType(), True),\n",
    "    types.StructField('improvement_surcharge', types.DoubleType(), True),\n",
    "    types.StructField('total_amount', types.DoubleType(), True), \n",
    "    types.StructField('congestion_surcharge', types.DoubleType(), True)\n",
    "     ])\n",
    "'''"
   ]
  },
  {
   "cell_type": "code",
   "execution_count": null,
   "id": "b9d75d1f-cc01-45a2-9c4f-df54342716d9",
   "metadata": {},
   "outputs": [],
   "source": [
    "#spark.createDataFrame(df_pandas).schema"
   ]
  },
  {
   "cell_type": "code",
   "execution_count": null,
   "id": "4b04221d-8d83-4e38-a6c1-cb4523e1e9f2",
   "metadata": {},
   "outputs": [],
   "source": [
    "#df.show()"
   ]
  },
  {
   "cell_type": "code",
   "execution_count": null,
   "id": "49eda19b-e937-4d61-8453-50dd32206772",
   "metadata": {},
   "outputs": [],
   "source": [
    "#df.printSchema()"
   ]
  },
  {
   "cell_type": "code",
   "execution_count": null,
   "id": "97283f13-5a5d-4240-8786-a9e0441b5377",
   "metadata": {},
   "outputs": [],
   "source": [
    "#df_limited = df.limit(2500000)"
   ]
  },
  {
   "cell_type": "code",
   "execution_count": null,
   "id": "36bf93bd-6a41-4782-a51c-9ee9445537bc",
   "metadata": {},
   "outputs": [],
   "source": [
    "'''\n",
    "df_limited.write.format(\"jdbc\") \\\n",
    " .options(url=\"jdbc:postgresql://localhost:5432/production\",\n",
    "          dbtable=\"taxi_all_rides.yellow_trips_data\",\n",
    "          user=\"ahona\",\n",
    "          password=\"ahona\",\n",
    "          driver=\"org.postgresql.Driver\") \\\n",
    " .mode('overwrite') \\\n",
    " .save()\n",
    " '''"
   ]
  },
  {
   "cell_type": "code",
   "execution_count": null,
   "id": "cbd9f9a7-2d72-47c9-a859-91601b71f60f",
   "metadata": {},
   "outputs": [],
   "source": [
    "df = spark.read \\\n",
    "     .option('header','true') \\\n",
    "     .csv('data/green/')"
   ]
  },
  {
   "cell_type": "code",
   "execution_count": null,
   "id": "b6105cab-b348-4a7e-b700-b398a539cc48",
   "metadata": {},
   "outputs": [],
   "source": [
    "df.show()"
   ]
  },
  {
   "cell_type": "code",
   "execution_count": null,
   "id": "ac9b19f7-846a-4504-a0d9-e46731ac4905",
   "metadata": {},
   "outputs": [],
   "source": [
    "df.printSchema()"
   ]
  },
  {
   "cell_type": "code",
   "execution_count": null,
   "id": "33450a4a-3d51-48ee-ad63-8f6c8278344e",
   "metadata": {},
   "outputs": [],
   "source": [
    "df_pandas = pd.read_csv('data/green/green_tripdata_2019-10.csv.gz', nrows=1000)"
   ]
  },
  {
   "cell_type": "code",
   "execution_count": null,
   "id": "d11f96c9-6b90-43c1-980e-240fddbe2025",
   "metadata": {},
   "outputs": [],
   "source": [
    "df_pandas.head()"
   ]
  },
  {
   "cell_type": "code",
   "execution_count": null,
   "id": "325d958d-23da-407b-92d6-f897c31e38e4",
   "metadata": {},
   "outputs": [],
   "source": [
    "spark.createDataFrame(df_pandas).schema"
   ]
  },
  {
   "cell_type": "code",
   "execution_count": null,
   "id": "8ff88754-88d7-4696-9ffc-c6060b18f03c",
   "metadata": {},
   "outputs": [],
   "source": [
    "schema = types.StructType([\n",
    "    types.StructField('VendorID', types.IntegerType(), True), \n",
    "    types.StructField('lpep_pickup_datetime', types.TimestampType(), True), \n",
    "    types.StructField('lpep_dropoff_datetime', types.TimestampType(), True), \n",
    "    types.StructField('store_and_fwd_flag', types.StringType(), True), \n",
    "    types.StructField('RatecodeID', types.IntegerType(), True),\n",
    "    types.StructField('PULocationID', types.IntegerType(), True),\n",
    "    types.StructField('DOLocationID', types.IntegerType(), True), \n",
    "    types.StructField('passenger_count', types.IntegerType(), True), \n",
    "    types.StructField('trip_distance', types.DoubleType(), True),\n",
    "    types.StructField('fare_amount', types.DoubleType(), True),\n",
    "    types.StructField('extra', types.DoubleType(), True), \n",
    "    types.StructField('mta_tax', types.DoubleType(), True),\n",
    "    types.StructField('tip_amount', types.DoubleType(), True), \n",
    "    types.StructField('tolls_amount', types.DoubleType(), True), \n",
    "    types.StructField('ehail_fee', types.DoubleType(), True), \n",
    "    types.StructField('improvement_surcharge', types.DoubleType(), True), \n",
    "    types.StructField('total_amount', types.DoubleType(), True), \n",
    "    types.StructField('payment_type', types.IntegerType(), True), \n",
    "    types.StructField('trip_type', types.IntegerType(), True), \n",
    "    types.StructField('congestion_surcharge', types.DoubleType(), True)\n",
    "    ])"
   ]
  },
  {
   "cell_type": "code",
   "execution_count": null,
   "id": "5be2bcf6-1e41-46c8-9995-6a7374a2b005",
   "metadata": {},
   "outputs": [],
   "source": [
    "df = spark.read \\\n",
    "     .option('header','true') \\\n",
    "     .schema(schema) \\\n",
    "     .csv('data/green/')"
   ]
  },
  {
   "cell_type": "code",
   "execution_count": null,
   "id": "acae8673-7c7d-430e-bfb0-931a8eaccdd9",
   "metadata": {},
   "outputs": [],
   "source": [
    "df.printSchema()"
   ]
  },
  {
   "cell_type": "code",
   "execution_count": null,
   "id": "108507b6-acd6-4f57-ade8-0c467a7fc8e3",
   "metadata": {},
   "outputs": [],
   "source": [
    "df_limited = df.limit(2500000)"
   ]
  },
  {
   "cell_type": "code",
   "execution_count": null,
   "id": "98c1e960-e5a3-4e9d-9e1c-81ee0583c15d",
   "metadata": {},
   "outputs": [],
   "source": [
    "df_limited.write.format(\"jdbc\") \\\n",
    " .options(url=\"jdbc:postgresql://localhost:5432/production\",\n",
    "          dbtable=\"taxi_all_rides.green_trips_data\",\n",
    "          user=\"ahona\",\n",
    "          password=\"ahona\",\n",
    "          driver=\"org.postgresql.Driver\") \\\n",
    " .mode('overwrite') \\\n",
    " .save()"
   ]
  },
  {
   "cell_type": "code",
   "execution_count": null,
   "id": "c9cb83a0-691a-4214-b6cb-49b7ebb9fea0",
   "metadata": {},
   "outputs": [],
   "source": []
  }
 ],
 "metadata": {
  "kernelspec": {
   "display_name": "Python 3 (ipykernel)",
   "language": "python",
   "name": "python3"
  },
  "language_info": {
   "codemirror_mode": {
    "name": "ipython",
    "version": 3
   },
   "file_extension": ".py",
   "mimetype": "text/x-python",
   "name": "python",
   "nbconvert_exporter": "python",
   "pygments_lexer": "ipython3",
   "version": "3.10.13"
  }
 },
 "nbformat": 4,
 "nbformat_minor": 5
}
